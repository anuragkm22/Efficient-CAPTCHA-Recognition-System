{
  "cells": [
    {
      "cell_type": "code",
      "execution_count": null,
      "id": "a8fef8d4",
      "metadata": {
        "colab": {
          "base_uri": "https://localhost:8080/"
        },
        "id": "a8fef8d4",
        "outputId": "978a2c70-f836-44d4-fe38-985505f97b0f"
      },
      "outputs": [
        {
          "output_type": "stream",
          "name": "stdout",
          "text": [
            "Drive already mounted at /content/drive; to attempt to forcibly remount, call drive.mount(\"/content/drive\", force_remount=True).\n"
          ]
        }
      ],
      "source": [
        "from google.colab import drive\n",
        "drive.mount('/content/drive')\n",
        "import os\n",
        "import cv2\n",
        "import matplotlib.pyplot as mp"
      ]
    },
    {
      "cell_type": "code",
      "execution_count": null,
      "id": "27cd8dd5",
      "metadata": {
        "id": "27cd8dd5"
      },
      "outputs": [],
      "source": [
        "path = '/content/drive/MyDrive/MLassign/train'\n",
        "train_data = os.listdir(path)\n",
        "# imageList.remove(\"labels.txt\")\n",
        "with open(\"/content/drive/MyDrive/MLassign/labels.txt\", 'r') as fl:\n",
        "  lb = fl.readlines()\n",
        "lb = [line.rstrip('\\n') for line in lb]\n",
        "\n",
        "Xtrain = []\n",
        "ytrain = []\n",
        "\n",
        "Xtest = []\n",
        "ytest = []\n",
        "\n",
        "split_ratio = 0.8\n",
        "\n",
        "count = len(train_data)*split_ratio\n",
        "i = 0 \n",
        "for image in train_data:\n",
        "  if(i<count):\n",
        "    #  add to train list\n",
        "    Xtrain.append(image)\n",
        "    index = int(image.split(\".\")[0])\n",
        "    ytrain.append(lb[index])\n",
        "  else:\n",
        "    Xtest.append(image)\n",
        "    index = int(image.split(\".\")[0])\n",
        "    ytest.append(lb[index])\n",
        "  i += 1"
      ]
    },
    {
      "cell_type": "code",
      "execution_count": null,
      "id": "bb85cb8f",
      "metadata": {
        "id": "bb85cb8f"
      },
      "outputs": [],
      "source": [
        "import cv2\n",
        "import numpy as np\n",
        "import matplotlib.pyplot as plt"
      ]
    },
    {
      "cell_type": "code",
      "execution_count": null,
      "id": "2ac49b40",
      "metadata": {
        "id": "2ac49b40"
      },
      "outputs": [],
      "source": [
        "from tqdm import tqdm"
      ]
    },
    {
      "cell_type": "code",
      "execution_count": null,
      "id": "328bcc84",
      "metadata": {
        "id": "328bcc84"
      },
      "outputs": [],
      "source": [
        "\n",
        "labels = {'ALPHA' : 0,\n",
        " 'BETA' : 1,\n",
        " 'CHI' : 2,\n",
        " 'DELTA' : 3,\n",
        " 'EPSILON': 4,\n",
        " 'ETA' : 5,\n",
        " 'GAMMA' : 6,\n",
        " 'IOTA' : 7,\n",
        " 'KAPPA' : 8,\n",
        " 'LAMDA': 9,\n",
        " 'MU' :10,\n",
        " 'NU' : 11,\n",
        " 'OMEGA' : 12,\n",
        " 'OMICRON':13,\n",
        " 'PHI' : 14,\n",
        " 'PI' : 15,\n",
        " 'PSI' : 16,\n",
        " 'RHO' : 17,\n",
        " 'SIGMA' : 18,\n",
        " 'TAU' : 19,\n",
        " 'THETA' : 20,\n",
        " 'UPSILON' : 21,\n",
        " 'XI' : 22,\n",
        " 'ZETA': 23}"
      ]
    },
    {
      "cell_type": "code",
      "source": [
        "#def backgr(im,im_freq):\n",
        "  #backg=np.where((im[:,:,0]==im_freq[0]) & (im[:,:,1]==im_freq[1]) & (im[:,:,2]==im_freq[2]))\n",
        "  #im[backg]=np.array([255,255,255],dtype=np.unit8)\n",
        "  #return im\n"
      ],
      "metadata": {
        "id": "D-o8f_rM1TnA"
      },
      "id": "D-o8f_rM1TnA",
      "execution_count": null,
      "outputs": []
    },
    {
      "cell_type": "code",
      "execution_count": null,
      "id": "f06e7493",
      "metadata": {
        "colab": {
          "base_uri": "https://localhost:8080/",
          "height": 55
        },
        "id": "f06e7493",
        "outputId": "50c8f14d-9bf6-4d43-d244-f9755e6fb586"
      },
      "outputs": [
        {
          "output_type": "stream",
          "name": "stderr",
          "text": [
            "100%|██████████| 1600/1600 [01:59<00:00, 13.34it/s]\n"
          ]
        },
        {
          "output_type": "execute_result",
          "data": {
            "text/plain": [
              "'success'"
            ],
            "application/vnd.google.colaboratory.intrinsic+json": {
              "type": "string"
            }
          },
          "metadata": {},
          "execution_count": 25
        }
      ],
      "source": [
        "def model():\n",
        "  for imageIndex in tqdm(range(len(Xtrain))):\n",
        "    img = cv2.imread(os.path.join(path, Xtrain[imageIndex]))\n",
        "    # Find pixel with max freq\n",
        "    img_temp = img.copy()\n",
        "    unique, counts = np.unique(img_temp.reshape(-1, 3), axis=0, return_counts=True)\n",
        "    img_freq = unique[np.argmax(counts)]\n",
        "    y_shape, x_shape = img.shape[:2]\n",
        "\n",
        "    # change the background with white\n",
        "    backg = np.where((img[:,:,0]==img_freq[0]) & (img[:,:,1]==img_freq[1]) & (img[:,:,2]==img_freq[2]))\n",
        "    img[backg] = np.array([255,255,255], dtype= np.uint8)\n",
        "    # Now Dilate the image \n",
        "    kernel = np.ones((5, 5), np.uint8)\n",
        "    img_dilat = cv2.dilate(img, kernel, iterations=1)\n",
        "    gray = cv2.cvtColor(img_dilat, cv2.COLOR_BGR2GRAY)\n",
        "    # Segment image into 3 character\n",
        "    start = True\n",
        "    cPrev = 0\n",
        "    list1 = []\n",
        "    for i in range(500):\n",
        "      vpp = np.sum(gray[:,i] < 250)\n",
        "      if vpp > 12:\n",
        "        if start:\n",
        "          # print(i)\n",
        "          temp = i\n",
        "          start = False\n",
        "        cPrev += 1\n",
        "      if vpp == 0:\n",
        "        if start == False:\n",
        "          # print(i)\n",
        "          if cPrev > 30:\n",
        "            sizediff = i-temp\n",
        "            if (sizediff < 150):\n",
        "              x_t = temp - int((150 - sizediff)/2)\n",
        "              t = x_t if x_t > 0 else 0\n",
        "              t= t if t + 150 < 500 else 350\n",
        "              y = 0\n",
        "            else:\n",
        "              t = i\n",
        "              y = 0\n",
        "            list1.append((t , y, 150, 150))\n",
        "            cPrev = 0\n",
        "          start = True    \n",
        "    list1size = len(list1)\n",
        "    if list1size != 3 :\n",
        "      list1 = [(15 , 0 , 150, 150),(175, 0, 150, 150),(335, 0, 150, 150)]\n",
        "      # print(mylist)\n",
        "      # print(imageFile)\n",
        "      # print(listSize)\n",
        "      # print(mylist)\n",
        "      # print(vpp)\n",
        "      # return \"failed\"\n",
        "\n",
        "    # Got the segment of the image\n",
        "    labellist1 = ytrain[imageIndex].split(\",\")\n",
        "    numberLabel = []\n",
        "    for la in labellist1:\n",
        "        numberLabel.append(labels[la])\n",
        "    for boxIndex in range(3):\n",
        "      t, y = list1[boxIndex][0], list1[boxIndex][1]\n",
        "      finalImage = gray[y:y + 150, t:t + 150]\n",
        "      finalImage = cv2.resize(finalImage, (30, 30))\n",
        "      finalImage = finalImage.flatten()\n",
        "      d_xtrain.append(finalImage)\n",
        "      # get the labels\n",
        "      d_ytrain.append(numberLabel[boxIndex])\n",
        "  return \"success\"\n",
        "d_xtrain = []\n",
        "d_ytrain = []\n",
        "model()"
      ]
    },
    {
      "cell_type": "code",
      "execution_count": null,
      "id": "0a1a627b",
      "metadata": {
        "colab": {
          "base_uri": "https://localhost:8080/"
        },
        "id": "0a1a627b",
        "outputId": "1f945091-ed0f-4d87-9598-fe57e2e6ee20"
      },
      "outputs": [
        {
          "output_type": "stream",
          "name": "stderr",
          "text": [
            "100%|██████████| 1600/1600 [01:56<00:00, 13.78it/s]"
          ]
        },
        {
          "output_type": "stream",
          "name": "stdout",
          "text": [
            "success\n"
          ]
        },
        {
          "output_type": "stream",
          "name": "stderr",
          "text": [
            "\n"
          ]
        }
      ],
      "source": [
        "def predict():\n",
        "  for imageIndex in tqdm(range(len(Xtrain))):\n",
        "    img = cv2.imread(os.path.join(path, Xtrain[imageIndex]))\n",
        "    # Find pixel with max freq\n",
        "    img_temp = img.copy()\n",
        "    unique, counts = np.unique(img_temp.reshape(-1, 3), axis=0, return_counts=True)\n",
        "    img_freq = unique[np.argmax(counts)]\n",
        "    y_shape, x_shape = img.shape[:2]\n",
        "\n",
        "    # change the background with white\n",
        "    backg = np.where((img[:,:,0]==img_freq[0]) & (img[:,:,1]==img_freq[1]) & (img[:,:,2]==img_freq[2]))\n",
        "    img[backg] = np.array([255,255,255], dtype= np.uint8)\n",
        "    # Now Dilate the image \n",
        "    kernel = np.ones((5, 5), np.uint8)\n",
        "    img_dilat = cv2.dilate(img, kernel, iterations=1)\n",
        "    gray = cv2.cvtColor(img_dilat, cv2.COLOR_BGR2GRAY)\n",
        "    # Segment image into 3 character\n",
        "    start = True\n",
        "    cPrev = 0\n",
        "    list1 = []\n",
        "    for i in range(500):\n",
        "      vpp = np.sum(gray[:,i] < 250)\n",
        "      if vpp > 12:\n",
        "        if start:\n",
        "          # print(i)\n",
        "          temp = i\n",
        "          start = False\n",
        "        cPrev += 1\n",
        "      if vpp == 0:\n",
        "        if start == False:\n",
        "          # print(i)\n",
        "          if cPrev > 30:\n",
        "            sizediff = i-temp\n",
        "            if (sizediff < 150):\n",
        "              x_t = temp - int((150 - sizediff)/2)\n",
        "              t = x_t if x_t > 0 else 0\n",
        "              t = t if t + 150 < 500 else 350\n",
        "              y = 0\n",
        "            else:\n",
        "              t = i\n",
        "              y = 0\n",
        "            list1.append((t , y, 150, 150))\n",
        "            cPrev = 0\n",
        "          start = True    \n",
        "    list1size = len(list1)\n",
        "    if list1size != 3 :\n",
        "      list1 = [(15 , 0 , 150, 150),(175, 0, 150, 150),(335, 0, 150, 150)]\n",
        "      # print(mylist)\n",
        "      # print(imageFile)\n",
        "      # print(listSize)\n",
        "      # print(mylist)\n",
        "      # print(vpp)\n",
        "      # return \"failed\"\n",
        "\n",
        "    # Got the segment of the image\n",
        "    labellist1 = ytrain[imageIndex].split(\",\")\n",
        "    numberLabel = []\n",
        "    for la in labellist1:\n",
        "        numberLabel.append(labels[la])\n",
        "    for boxIndex in range(3):\n",
        "      t, y = list1[boxIndex][0], list1[boxIndex][1]\n",
        "      finalImage = gray[y:y + 150, t:t + 150]\n",
        "      finalImage = cv2.resize(finalImage, (30, 30))\n",
        "      finalImage = finalImage.flatten()\n",
        "      dfXtest.append(finalImage)\n",
        "      # get the labels\n",
        "      dfytest.append(numberLabel[boxIndex])\n",
        "  return \"success\"\n",
        "\n",
        "dfXtest = []\n",
        "dfytest = []\n",
        "print(predict())"
      ]
    },
    {
      "cell_type": "code",
      "execution_count": null,
      "id": "c518a3a7",
      "metadata": {
        "colab": {
          "base_uri": "https://localhost:8080/"
        },
        "id": "c518a3a7",
        "outputId": "5d4d1dcd-0059-449f-a8f8-07ab483ad781"
      },
      "outputs": [
        {
          "output_type": "stream",
          "name": "stdout",
          "text": [
            "100.0\n"
          ]
        }
      ],
      "source": [
        "from sklearn.svm import SVC\n",
        "import pickle\n",
        "model = SVC(kernel = 'linear', C = 1).fit(dfXtest,dfytest)\n",
        "predictions = model.predict(dfXtest)\n",
        "count = 0\n",
        "for i in range(len(predictions)):\n",
        "    if predictions[i] == dfytest[i]:\n",
        "        count += 1\n",
        "print(count/(i+1)*100)\n",
        "\n",
        "\n",
        "filename = '/content/drive/MyDrive/MLassign/modelSVM.sav'\n",
        "pickle.dump(model, open(filename, 'wb'))"
      ]
    }
  ],
  "metadata": {
    "kernelspec": {
      "display_name": "Python 3 (ipykernel)",
      "language": "python",
      "name": "python3"
    },
    "colab": {
      "provenance": []
    }
  },
  "nbformat": 4,
  "nbformat_minor": 5
}